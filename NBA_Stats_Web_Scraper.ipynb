{
  "nbformat": 4,
  "nbformat_minor": 0,
  "metadata": {
    "colab": {
      "provenance": []
    },
    "kernelspec": {
      "name": "python3",
      "display_name": "Python 3"
    },
    "language_info": {
      "name": "python"
    }
  },
  "cells": [
    {
      "cell_type": "markdown",
      "source": [
        "## Imports"
      ],
      "metadata": {
        "id": "OaiEyTGdIMkN"
      }
    },
    {
      "cell_type": "code",
      "execution_count": 1,
      "metadata": {
        "id": "p2bP_HHYywOJ"
      },
      "outputs": [],
      "source": [
        "import requests\n",
        "from bs4 import BeautifulSoup\n",
        "\n",
        "import pandas as pd\n",
        "from sklearn.model_selection import train_test_split\n",
        "from sklearn.preprocessing import OneHotEncoder, StandardScaler\n",
        "from sklearn.compose import ColumnTransformer\n",
        "from sklearn.ensemble import RandomForestRegressor\n",
        "from sklearn.pipeline import Pipeline\n",
        "from sklearn.linear_model import LinearRegression as LinearRegression\n",
        "\n",
        "import statistics\n",
        "from datetime import datetime"
      ]
    },
    {
      "cell_type": "markdown",
      "source": [
        "## Constructor for Game Objects\n",
        "\n",
        "A game object stores all the information used to make predictions"
      ],
      "metadata": {
        "id": "DVcvBN2QIyW1"
      }
    },
    {
      "cell_type": "code",
      "source": [
        "class Game:\n",
        "    def __init__(self, date, opp, winloss, points, homeaway, fg_attempted, fg_made, ft_made, threes_made, threes_attempted, year):\n",
        "\n",
        "        parsed_date = datetime.strptime(date.strip(), \"%m/%d\")\n",
        "\n",
        "        # Adjust the year to align with NBA season based on the month\n",
        "        if parsed_date.month >= 8:\n",
        "            year -= 1\n",
        "\n",
        "        self.date = parsed_date.replace(year=year)\n",
        "\n",
        "        self.opp = opp\n",
        "        self.winloss = winloss\n",
        "        self.points = points\n",
        "        self.homeaway = homeaway\n",
        "        self.fg_made = fg_made\n",
        "        self.fg_attempted = fg_attempted\n",
        "        self.ft_made = ft_made\n",
        "        self.threes_made = threes_made\n",
        "        self.threes_attempted = threes_attempted\n",
        "        self.NextScore = None\n",
        "\n",
        "\n",
        "    #print function\n",
        "    def __str__(self):\n",
        "        return f\"Date: {self.date}, Opponent: {self.opp}, Result: {self.winloss}, Points: {self.points}, Home/Away: {self.homeaway}, FG Made: {self.fg_made}, FG Attempted: {self.fg_attempted}, FT Made: {self.ft_made}, 3's Made: {self.threes_made}, 3's Attempted: {self.threes_attempted}, Next Games Points: {self.NextScore}\"\n"
      ],
      "metadata": {
        "id": "odzClYUN_9IH"
      },
      "execution_count": 2,
      "outputs": []
    },
    {
      "cell_type": "markdown",
      "source": [
        "## Scrape data from past years\n",
        "\n",
        "Data is scraped from ESPN where it is parced and processed into a game object\n",
        "\n",
        "In this case, we will be looking at Damien Lillard's last few seasons in Portland\n",
        "\n"
      ],
      "metadata": {
        "id": "g-CjaDX4JCU0"
      }
    },
    {
      "cell_type": "code",
      "source": [
        "rows = []\n",
        "games = []\n",
        "\n",
        "headers = {\n",
        "    'User-Agent': 'Chrome/91.0.4472.124',\n",
        "    'Accept-Language': 'en-US,en;q=0.9',\n",
        "}\n",
        "\n",
        "for cur_year in range(2020, 2023):\n",
        "\n",
        "  url = \"https://www.espn.com/nba/player/gamelog/_/id/6606/type/nba/year/\" + str(cur_year)\n",
        "  response = requests.get(url, headers=headers)\n",
        "\n",
        "  soup = BeautifulSoup(response.content, 'html.parser')\n",
        "\n",
        "  rows = soup.find_all('tr', class_='Table__TR Table__TR--sm Table__even')\n",
        "  rows += soup.find_all('tr', class_='filled Table__TR Table__TR--sm Table__even')\n",
        "\n",
        "  for row in rows:\n",
        "    try:\n",
        "      elements = row.find_all('td', class_='Table__TD')\n",
        "      date = elements[0].text[3:]\n",
        "      opp = elements[1].text[-25:]\n",
        "      winloss = elements[2].text[-40:][0]\n",
        "      if opp[0] == '@':\n",
        "        homeaway = 'Away'\n",
        "        opp = opp[1:]\n",
        "      else:\n",
        "        homeaway = 'Home'\n",
        "        opp = opp[2:]\n",
        "\n",
        "      points = elements[len(elements)-1].text\n",
        "      temp = elements[4].text\n",
        "      temp = temp.split('-')\n",
        "      fg_attempted = temp[1]\n",
        "      fg_made = temp[0]\n",
        "\n",
        "      temp = elements[6].text\n",
        "      temp = temp.split('-')\n",
        "      threes_made = temp[0]\n",
        "      threes_attempted = temp[1]\n",
        "\n",
        "      temp = elements[8].text\n",
        "      temp = temp.split('-')\n",
        "      ft_made = temp[0]\n",
        "\n",
        "        # create the Game object\n",
        "      game = Game(date, opp, winloss, points, homeaway, fg_attempted, fg_made, ft_made, threes_made, threes_attempted, cur_year)\n",
        "      games.append(game)\n",
        "      #print(game)\n",
        "    except ValueError as e:\n",
        "        # Parser won't find date and other info if\n",
        "        # Game is in the playoffs or in season tournament, or\n",
        "        # it is the column headers\n",
        "        print(e)\n",
        "    except IndexError as e:\n",
        "        # Handles header columns\n",
        "        print(f\"IndexError: {e}\")"
      ],
      "metadata": {
        "id": "TPBsypdfUitV",
        "collapsed": true
      },
      "execution_count": null,
      "outputs": []
    },
    {
      "cell_type": "code",
      "source": [
        "# sort games by date\n",
        "games = sorted(games, key=lambda game: game.date)\n",
        "\n",
        "for i in range(len(games) - 1):\n",
        "  current_game = games[i]\n",
        "  next_game = games[i + 1]\n",
        "\n",
        "    # Calculate the difference in days between current and next game\n",
        "  days_diff = (next_game.date - current_game.date).days\n",
        "\n",
        "  if days_diff <= 6:\n",
        "    # Updates the next score column, also switches the home/away column to represent the next game's location\n",
        "    current_game.NextScore = next_game.points\n",
        "    current_game.homeaway = next_game.homeaway"
      ],
      "metadata": {
        "id": "zndm_loKJwWi"
      },
      "execution_count": 9,
      "outputs": []
    },
    {
      "cell_type": "code",
      "source": [
        "#print for testing\n",
        "for g in games:\n",
        "  print(g)"
      ],
      "metadata": {
        "id": "tIUEUMOFTOxh"
      },
      "execution_count": null,
      "outputs": []
    },
    {
      "cell_type": "code",
      "source": [
        "#Function that takes an array of games and turns them into a dataframe\n",
        "\n",
        "def games_to_dataframe(games):\n",
        "    data = {\n",
        "        'Date': [],\n",
        "        'Opponent': [],\n",
        "        'Result': [],\n",
        "        'Points': [],\n",
        "        'Home/Away': [],\n",
        "        'FG Made': [],\n",
        "        'FG Attempted': [],\n",
        "        'FT Made': [],\n",
        "        '3\\'s Made': [],\n",
        "        '3\\'s Attempted': [],\n",
        "        'Next Games Points': []  # This holds the number of points the player scored in his next game\n",
        "    }\n",
        "\n",
        "    # Iterate through each game object and add its attributes to the dictionary\n",
        "    for game in games:\n",
        "        if game.NextScore is not None:\n",
        "            data['Date'].append(game.date)\n",
        "            data['Opponent'].append(game.opp)\n",
        "            data['Result'].append(game.winloss)\n",
        "            data['Points'].append(game.points)\n",
        "            data['Home/Away'].append(game.homeaway)\n",
        "            data['FG Made'].append(game.fg_made)\n",
        "            data['FG Attempted'].append(game.fg_attempted)\n",
        "            data['FT Made'].append(game.ft_made)\n",
        "            data['3\\'s Made'].append(game.threes_made)\n",
        "            data['3\\'s Attempted'].append(game.threes_attempted)\n",
        "            data['Next Games Points'].append(game.NextScore)\n",
        "\n",
        "\n",
        "    # Convert the dictionary to a Dataframe\n",
        "    df = pd.DataFrame(data)\n",
        "    return df"
      ],
      "metadata": {
        "id": "CyIOTbxSASHa"
      },
      "execution_count": 10,
      "outputs": []
    },
    {
      "cell_type": "code",
      "source": [
        "# calls the function and prints the newly created dataframe\n",
        "df = games_to_dataframe(games)\n",
        "print(df)"
      ],
      "metadata": {
        "colab": {
          "base_uri": "https://localhost:8080/"
        },
        "id": "sJVCiEvXAl9s",
        "outputId": "cc3d9ef9-78d9-43d4-9ea2-617eed1c4984"
      },
      "execution_count": 11,
      "outputs": [
        {
          "output_type": "stream",
          "name": "stdout",
          "text": [
            "          Date Opponent Result Points Home/Away FG Made FG Attempted FT Made  \\\n",
            "0   2019-08-02      BOS      L     30      Home       8           20       9   \n",
            "1   2019-08-04      HOU      W     21      Away       6           19       6   \n",
            "2   2019-08-06      DEN      W     45      Home      13           21       8   \n",
            "3   2019-08-08      LAC      L     22      Home      10           23       0   \n",
            "4   2019-08-09      PHI      W     51      Away      16           28      15   \n",
            "..         ...      ...    ...    ...       ...     ...          ...     ...   \n",
            "152 2021-12-17      CHA      W     43      Away      12           19      13   \n",
            "153 2021-12-19      MEM      W     32      Away       9           19      11   \n",
            "154 2021-12-21       NO      L     39      Home      13           24       7   \n",
            "155 2021-12-27      DAL      L     26      Home       5           15      13   \n",
            "156 2021-12-29     UTAH      L     32      Away      10           23       7   \n",
            "\n",
            "    3's Made 3's Attempted Next Games Points  \n",
            "0          5            14                21  \n",
            "1          3             7                45  \n",
            "2         11            18                22  \n",
            "3          2            10                51  \n",
            "4          4            12                61  \n",
            "..       ...           ...               ...  \n",
            "152        6            11                32  \n",
            "153        3             9                39  \n",
            "154        6            11                26  \n",
            "155        3             8                32  \n",
            "156        5            14                18  \n",
            "\n",
            "[157 rows x 11 columns]\n"
          ]
        }
      ]
    },
    {
      "cell_type": "markdown",
      "source": [
        "##Define the training data and the model"
      ],
      "metadata": {
        "id": "6kYd8Wz2ZG8L"
      }
    },
    {
      "cell_type": "code",
      "source": [
        "X = df.drop('Next Games Points', axis=1)\n",
        "y = df['Next Games Points']\n",
        "\n",
        "# split up the data based on numerical and categorical\n",
        "preprocessor = ColumnTransformer(\n",
        "    transformers=[\n",
        "        ('num', StandardScaler(), ['Points', 'FG Made', 'FG Attempted', 'FT Made', '3\\'s Made', '3\\'s Attempted']),\n",
        "        ('cat', OneHotEncoder(), [ 'Opponent','Home/Away']) #'Opponent',\n",
        "    ])\n",
        "\n",
        "# Build a pipeline\n",
        "model = Pipeline(steps=[\n",
        "    ('preprocessor', preprocessor),\n",
        "    ('regressor', LinearRegression())   # Use RandomForestRegressor() or LinearRegression()\n",
        "])\n",
        "\n",
        "# Split the data into training and testing sets\n",
        "X_train, X_test, y_train, y_test = train_test_split(X, y, test_size=0.1, random_state=2)\n",
        "\n",
        "# Train\n",
        "model.fit(X_train, y_train)\n",
        "\n",
        "predictions = model.predict(X_test)\n",
        "\n",
        "# print comparisons between real and prdicted\n",
        "comparison = pd.DataFrame({'Actual': y_test, 'Predicted': predictions})\n",
        "print(comparison)"
      ],
      "metadata": {
        "colab": {
          "base_uri": "https://localhost:8080/"
        },
        "id": "J1te3hUFBSoQ",
        "outputId": "9df2be4c-d047-4a58-f28e-918eec7ee91c"
      },
      "execution_count": 12,
      "outputs": [
        {
          "output_type": "stream",
          "name": "stdout",
          "text": [
            "    Actual  Predicted\n",
            "12      33  35.144337\n",
            "3       51  35.500823\n",
            "99      25  18.185955\n",
            "6       18  24.857250\n",
            "118     23  34.352244\n",
            "133     25  33.135162\n",
            "54      51  34.816122\n",
            "78      35  33.087721\n",
            "29      31  36.673933\n",
            "135     20  20.382181\n",
            "134     14  32.882339\n",
            "53      48  34.038369\n",
            "136     26  32.054042\n",
            "126     34  29.548494\n",
            "44      26  28.922050\n",
            "141     20  24.526058\n"
          ]
        }
      ]
    },
    {
      "cell_type": "markdown",
      "source": [
        "## Predict an entire season\n",
        "\n",
        "Use a season that was not used in the training and testing to evaluate the model"
      ],
      "metadata": {
        "id": "32guTd4SRfb4"
      }
    },
    {
      "cell_type": "code",
      "source": [
        "games = []\n",
        "url = \"https://www.espn.com/nba/player/gamelog/_/id/6606/type/nba/year/2023\"\n",
        "response = requests.get(url, headers=headers)\n",
        "\n",
        "soup = BeautifulSoup(response.content, 'html.parser')\n",
        "\n",
        "rows = soup.find_all('tr', class_='Table__TR Table__TR--sm Table__even')\n",
        "rows += soup.find_all('tr', class_='filled Table__TR Table__TR--sm Table__even')\n",
        "\n",
        "for row in rows:\n",
        "  try:\n",
        "    elements = row.find_all('td', class_='Table__TD')\n",
        "    date = elements[0].text[3:]\n",
        "    opp = elements[1].text[-25:]\n",
        "    winloss = elements[2].text[-40:][0]\n",
        "    if opp[0] == '@':\n",
        "      homeaway = 'Away'\n",
        "      opp = opp[1:]\n",
        "    else:\n",
        "      homeaway = 'Home'\n",
        "      opp = opp[2:]\n",
        "\n",
        "    points = elements[len(elements)-1].text\n",
        "    temp = elements[4].text\n",
        "    temp = temp.split('-')\n",
        "    fg_attempted = temp[1]\n",
        "    fg_made = temp[0]\n",
        "\n",
        "    temp = elements[6].text\n",
        "    temp = temp.split('-')\n",
        "    threes_made = temp[0]\n",
        "    threes_attempted = temp[1]\n",
        "\n",
        "    temp = elements[8].text\n",
        "    temp = temp.split('-')\n",
        "    ft_made = temp[0]\n",
        "\n",
        "    game = Game(date, opp, winloss, points, homeaway, fg_attempted, fg_made, ft_made, threes_made, threes_attempted, 2023)\n",
        "    games.append(game)\n",
        "    #print(game)\n",
        "  except ValueError as e:\n",
        "    print(e)\n",
        "  except IndexError as e:\n",
        "    print(f\"IndexError: {e}\")"
      ],
      "metadata": {
        "colab": {
          "base_uri": "https://localhost:8080/"
        },
        "id": "I6jFkI0XVPZ_",
        "outputId": "2d065b19-27bb-4d6f-d107-399b77a8584b",
        "collapsed": true
      },
      "execution_count": 13,
      "outputs": [
        {
          "output_type": "stream",
          "name": "stdout",
          "text": [
            "time data 'rages' does not match format '%m/%d'\n",
            "time data 'als' does not match format '%m/%d'\n",
            "IndexError: list index out of range\n",
            "IndexError: list index out of range\n",
            "IndexError: list index out of range\n",
            "IndexError: list index out of range\n",
            "IndexError: list index out of range\n"
          ]
        }
      ]
    },
    {
      "cell_type": "code",
      "source": [
        "# sort games by date\n",
        "games = sorted(games, key=lambda game: game.date)\n",
        "\n",
        "for i in range(len(games) - 1):\n",
        "  current_game = games[i]\n",
        "  next_game = games[i + 1]\n",
        "\n",
        "    # Calculate the difference in days between current and next game\n",
        "  days_diff = (next_game.date - current_game.date).days\n",
        "\n",
        "  if days_diff <= 6:\n",
        "    current_game.NextScore = next_game.points\n",
        "    current_game.homeaway = next_game.homeaway"
      ],
      "metadata": {
        "id": "KIHUrdrQzX7Y"
      },
      "execution_count": 14,
      "outputs": []
    },
    {
      "cell_type": "code",
      "source": [
        "Final_Test_df = games_to_dataframe(games)\n",
        "\n",
        "X = Final_Test_df.drop('Next Games Points', axis=1)\n",
        "y = Final_Test_df['Next Games Points']\n",
        "\n",
        "predictions = model.predict(X)\n",
        "\n",
        "# Output predictions alongside y_test\n",
        "comparison = pd.DataFrame({'Actual': y, 'Predicted': predictions})\n",
        "print(comparison)"
      ],
      "metadata": {
        "colab": {
          "base_uri": "https://localhost:8080/"
        },
        "id": "dKP-e6ZvzE6C",
        "outputId": "c485ac8e-dd9b-4d0e-e033-8fed318be87d"
      },
      "execution_count": 15,
      "outputs": [
        {
          "output_type": "stream",
          "name": "stdout",
          "text": [
            "   Actual  Predicted\n",
            "0      21  30.651407\n",
            "1       8  25.028272\n",
            "2      41  19.665575\n",
            "3      41  22.119825\n",
            "4      31  31.075162\n",
            "5      22  32.730257\n",
            "6      26  19.764216\n",
            "7      29  22.728763\n",
            "8      22  31.427061\n",
            "9      25  29.117058\n",
            "10     13  25.368882\n",
            "11     40  27.395387\n",
            "12     36  29.317365\n",
            "13     38  34.381992\n",
            "14     37  26.999652\n",
            "15     24  28.576698\n",
            "16     25  26.702419\n",
            "17     28  29.632001\n",
            "18     16  32.046410\n",
            "19     34  30.879683\n",
            "20     17  32.743769\n",
            "21     34  23.340925\n",
            "22     19  32.480348\n",
            "23     27  16.778292\n",
            "24     19  30.094994\n",
            "25     34  29.799385\n",
            "26     30  35.415956\n",
            "27     50  30.632378\n",
            "28     36  30.969911\n",
            "29     40  32.609959\n",
            "30     44  31.773886\n",
            "31     25  33.988930\n",
            "32     24  32.550923\n",
            "33     37  23.038946\n",
            "34     60  30.600733\n",
            "35     30  38.535248\n",
            "36     42  32.685460\n",
            "37     42  31.754860\n",
            "38     29  36.828445\n",
            "39     40  28.123557\n",
            "40     28  32.816604\n",
            "41     33  28.243705\n",
            "42     38  34.846702\n",
            "43     40  36.559732\n",
            "44     39  28.264319\n",
            "45     25  41.858351\n",
            "46     41  32.639765\n",
            "47     33  33.568474\n",
            "48     41  29.990554\n",
            "49     31  27.793130\n",
            "50     27  18.406577\n",
            "51     22  27.578740\n",
            "52     38  33.542886\n",
            "53     41  28.966290\n",
            "54     21  30.673502\n",
            "55     30  31.568158\n"
          ]
        }
      ]
    },
    {
      "cell_type": "code",
      "source": [
        "#calculate the median points value\n",
        "points_list = [game.points for game in games]\n",
        "median_points = statistics.median(points_list)\n",
        "\n",
        "print(median_points)"
      ],
      "metadata": {
        "colab": {
          "base_uri": "https://localhost:8080/"
        },
        "id": "5WhH1AUN79YK",
        "outputId": "061c0d22-9f15-445f-b0a3-d89c7dc291fd"
      },
      "execution_count": 16,
      "outputs": [
        {
          "output_type": "stream",
          "name": "stdout",
          "text": [
            "31\n"
          ]
        }
      ]
    },
    {
      "cell_type": "markdown",
      "source": [
        "## Does it work ?\n",
        "\n",
        "Define a betting line for over/under evalulation. In this case, we'll use the median as a reference for where to draw our line\n",
        "\n"
      ],
      "metadata": {
        "id": "tFTIs3egZc0c"
      }
    },
    {
      "cell_type": "code",
      "source": [
        "line = 30.5\n",
        "\n",
        "true_count = 0\n",
        "false_count = 0\n",
        "\n",
        "# Loop through the comparison DataFrame and check the condition\n",
        "for index, row in comparison.iterrows():\n",
        "    actual = row['Actual']\n",
        "    predicted = row['Predicted']\n",
        "\n",
        "    # Check if both are either under or over 'line'\n",
        "    if (int(actual) < line and int(predicted) < line) or (int(actual) >= line and int(predicted) >= line):\n",
        "        result = True\n",
        "        true_count += 1\n",
        "    else:\n",
        "        result = False\n",
        "        false_count += 1\n",
        "\n",
        "    print(f\"Actual: {actual}, Predicted: {predicted}, Both Over/Under {line}: {result}\")\n",
        "\n",
        "print(f\"End Result for a line of {line}:\")\n",
        "print(true_count/(true_count+false_count))"
      ],
      "metadata": {
        "colab": {
          "base_uri": "https://localhost:8080/"
        },
        "id": "tdGiAFjI0wG9",
        "outputId": "6a699094-5a6f-4d40-9379-14588aac41c1"
      },
      "execution_count": 17,
      "outputs": [
        {
          "output_type": "stream",
          "name": "stdout",
          "text": [
            "Actual: 21, Predicted: 30.651406562740313, Both Over/Under 30.5: True\n",
            "Actual: 8, Predicted: 25.02827221579834, Both Over/Under 30.5: True\n",
            "Actual: 41, Predicted: 19.665574641173116, Both Over/Under 30.5: False\n",
            "Actual: 41, Predicted: 22.119825037220576, Both Over/Under 30.5: False\n",
            "Actual: 31, Predicted: 31.075162146631065, Both Over/Under 30.5: True\n",
            "Actual: 22, Predicted: 32.73025744295906, Both Over/Under 30.5: False\n",
            "Actual: 26, Predicted: 19.76421582931763, Both Over/Under 30.5: True\n",
            "Actual: 29, Predicted: 22.72876337462063, Both Over/Under 30.5: True\n",
            "Actual: 22, Predicted: 31.427060656096288, Both Over/Under 30.5: False\n",
            "Actual: 25, Predicted: 29.11705784076693, Both Over/Under 30.5: True\n",
            "Actual: 13, Predicted: 25.36888236937719, Both Over/Under 30.5: True\n",
            "Actual: 40, Predicted: 27.39538658660826, Both Over/Under 30.5: False\n",
            "Actual: 36, Predicted: 29.31736532587062, Both Over/Under 30.5: False\n",
            "Actual: 38, Predicted: 34.381992039309615, Both Over/Under 30.5: True\n",
            "Actual: 37, Predicted: 26.999651623135993, Both Over/Under 30.5: False\n",
            "Actual: 24, Predicted: 28.576698465059433, Both Over/Under 30.5: True\n",
            "Actual: 25, Predicted: 26.702419055277034, Both Over/Under 30.5: True\n",
            "Actual: 28, Predicted: 29.63200091567641, Both Over/Under 30.5: True\n",
            "Actual: 16, Predicted: 32.046409685704106, Both Over/Under 30.5: False\n",
            "Actual: 34, Predicted: 30.87968342749481, Both Over/Under 30.5: False\n",
            "Actual: 17, Predicted: 32.74376860067929, Both Over/Under 30.5: False\n",
            "Actual: 34, Predicted: 23.340925137313214, Both Over/Under 30.5: False\n",
            "Actual: 19, Predicted: 32.48034784258385, Both Over/Under 30.5: False\n",
            "Actual: 27, Predicted: 16.778291804294877, Both Over/Under 30.5: True\n",
            "Actual: 19, Predicted: 30.094993853602645, Both Over/Under 30.5: True\n",
            "Actual: 34, Predicted: 29.799384631180615, Both Over/Under 30.5: False\n",
            "Actual: 30, Predicted: 35.41595638894495, Both Over/Under 30.5: False\n",
            "Actual: 50, Predicted: 30.6323781494059, Both Over/Under 30.5: False\n",
            "Actual: 36, Predicted: 30.969911187097225, Both Over/Under 30.5: False\n",
            "Actual: 40, Predicted: 32.609958801954, Both Over/Under 30.5: True\n",
            "Actual: 44, Predicted: 31.773886495263795, Both Over/Under 30.5: True\n",
            "Actual: 25, Predicted: 33.98893040201587, Both Over/Under 30.5: False\n",
            "Actual: 24, Predicted: 32.55092259180677, Both Over/Under 30.5: False\n",
            "Actual: 37, Predicted: 23.038945570985412, Both Over/Under 30.5: False\n",
            "Actual: 60, Predicted: 30.600733328538567, Both Over/Under 30.5: False\n",
            "Actual: 30, Predicted: 38.535248357308404, Both Over/Under 30.5: False\n",
            "Actual: 42, Predicted: 32.68545965826783, Both Over/Under 30.5: True\n",
            "Actual: 42, Predicted: 31.754860369958305, Both Over/Under 30.5: True\n",
            "Actual: 29, Predicted: 36.82844457637371, Both Over/Under 30.5: False\n",
            "Actual: 40, Predicted: 28.12355712407849, Both Over/Under 30.5: False\n",
            "Actual: 28, Predicted: 32.816603647467744, Both Over/Under 30.5: False\n",
            "Actual: 33, Predicted: 28.243705085908243, Both Over/Under 30.5: False\n",
            "Actual: 38, Predicted: 34.84670243639675, Both Over/Under 30.5: True\n",
            "Actual: 40, Predicted: 36.55973241654272, Both Over/Under 30.5: True\n",
            "Actual: 39, Predicted: 28.264318681668534, Both Over/Under 30.5: False\n",
            "Actual: 25, Predicted: 41.85835080632064, Both Over/Under 30.5: False\n",
            "Actual: 41, Predicted: 32.63976522401038, Both Over/Under 30.5: True\n",
            "Actual: 33, Predicted: 33.568473931658694, Both Over/Under 30.5: True\n",
            "Actual: 41, Predicted: 29.99055442827131, Both Over/Under 30.5: False\n",
            "Actual: 31, Predicted: 27.793129645688083, Both Over/Under 30.5: False\n",
            "Actual: 27, Predicted: 18.406576502556334, Both Over/Under 30.5: True\n",
            "Actual: 22, Predicted: 27.578739574455785, Both Over/Under 30.5: True\n",
            "Actual: 38, Predicted: 33.542886414281874, Both Over/Under 30.5: True\n",
            "Actual: 41, Predicted: 28.96628970348812, Both Over/Under 30.5: False\n",
            "Actual: 21, Predicted: 30.673501700375837, Both Over/Under 30.5: True\n",
            "Actual: 30, Predicted: 31.568158486814013, Both Over/Under 30.5: False\n",
            "End Result for a line of 30.5:\n",
            "0.44642857142857145\n"
          ]
        }
      ]
    },
    {
      "cell_type": "markdown",
      "source": [
        "## Results\n",
        "\n",
        "Not the results I was looking for. To make a profit in sports betting, you have to be able to win at least 53% of the time, you'll have an easier time reaching that mark betting against my model. I will continue to test other players and tweaking parameters. The big issue is the limited amount of data. I don't want to increase my sample size more than just a couple of years because an NBA roster can change a lot through that timespan. I would like to see at least 60% acuraccy before I start actually betting with this model."
      ],
      "metadata": {
        "id": "BaR6ImU4zynC"
      }
    }
  ]
}